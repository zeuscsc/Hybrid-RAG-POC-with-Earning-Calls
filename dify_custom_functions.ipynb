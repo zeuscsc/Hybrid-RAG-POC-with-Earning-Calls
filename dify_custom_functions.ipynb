{
 "cells": [
  {
   "cell_type": "code",
   "execution_count": 10,
   "metadata": {},
   "outputs": [],
   "source": [
    "import json\n",
    "def main(body: str) -> dict:\n",
    "    records=json.loads(body)[\"records\"]\n",
    "    speakers_in_banks_map:dict[str,list]={}\n",
    "    for record in records:\n",
    "        bank_name=record[\"bank_name\"]\n",
    "        speaker_name=record[\"speaker_name\"]\n",
    "        if bank_name not in speakers_in_banks_map:\n",
    "            speakers_in_banks_map[bank_name]=[speaker_name]\n",
    "        else:\n",
    "            speakers_in_banks_map[bank_name].append(speaker_name)\n",
    "        pass\n",
    "    rag_documents_str=\"\"\n",
    "    for bank_name in speakers_in_banks_map:\n",
    "        rag_documents_str+=f\"\\n\\nName List of People who have spoke in Bank < {bank_name} > Earnings Call:\\n\"\n",
    "        rag_documents_str+=\"\\n\".join(speakers_in_banks_map[bank_name])\n",
    "    return {\n",
    "        \"document\": rag_documents_str,\n",
    "    }\n"
   ]
  },
  {
   "cell_type": "code",
   "execution_count": 11,
   "metadata": {},
   "outputs": [
    {
     "data": {
      "text/plain": [
       "{'document': '\\n\\nName List of People who have spoke in Bank < Standard Chartered > Earnings Call:\\nPerlie Mong\\n\\nName List of People who have spoke in Bank < HSBC > Earnings Call:\\nPerlie Mong'}"
      ]
     },
     "execution_count": 11,
     "metadata": {},
     "output_type": "execute_result"
    }
   ],
   "source": [
    "main( \"{\\\"records\\\":[{\\\"speaker_name\\\":\\\"Perlie Mong\\\",\\\"bank_name\\\":\\\"Standard Chartered\\\"},{\\\"speaker_name\\\":\\\"Perlie Mong\\\",\\\"bank_name\\\":\\\"HSBC\\\"}]}\")"
   ]
  },
  {
   "cell_type": "code",
   "execution_count": null,
   "metadata": {},
   "outputs": [],
   "source": [
    "\n",
    "def main(body: str) -> dict:\n",
    "    document=json.loads(body)[\"document\"]\n",
    "    return {\n",
    "        \"document\": document,\n",
    "    }"
   ]
  }
 ],
 "metadata": {
  "kernelspec": {
   "display_name": "p311",
   "language": "python",
   "name": "python3"
  },
  "language_info": {
   "codemirror_mode": {
    "name": "ipython",
    "version": 3
   },
   "file_extension": ".py",
   "mimetype": "text/x-python",
   "name": "python",
   "nbconvert_exporter": "python",
   "pygments_lexer": "ipython3",
   "version": "3.12.4"
  }
 },
 "nbformat": 4,
 "nbformat_minor": 2
}
