{
 "cells": [
  {
   "cell_type": "code",
   "execution_count": 1,
   "metadata": {},
   "outputs": [],
   "source": [
    "from pymilvus import MilvusClient, DataType,db,connections, AnnSearchRequest\n",
    "import os\n",
    "import pandas as pd"
   ]
  },
  {
   "cell_type": "code",
   "execution_count": 2,
   "metadata": {},
   "outputs": [],
   "source": [
    "model = None\n",
    "def get_embeddings(queries):\n",
    "    global model\n",
    "    from FlagEmbedding import BGEM3FlagModel\n",
    "    if model is None:\n",
    "        model = BGEM3FlagModel('BAAI/bge-m3', use_fp16=True)\n",
    "        print(\"Model loaded.\")\n",
    "    embeddings = model.encode(queries, return_dense=True, return_sparse=True, return_colbert_vecs=False)\n",
    "    dense_vectors:list=embeddings['dense_vecs']\n",
    "    lexical_weights:list=embeddings['lexical_weights']\n",
    "    return {\"dense_vectors\":dense_vectors,\"sparse_vectors\":lexical_weights}"
   ]
  },
  {
   "cell_type": "code",
   "execution_count": 3,
   "metadata": {},
   "outputs": [],
   "source": [
    "# CLUSTER_DOMAIN=\"host.docker.internal\"\n",
    "CLUSTER_DOMAIN = \"localhost\"\n",
    "POART = 19530\n",
    "CLUSTER_ENDPOINT = f\"http://{CLUSTER_DOMAIN}:{POART}\"\n",
    "DATABASE_NAME = \"HSBC\"\n",
    "COLLECTION_NAME = \"banks_earnings_calls\"\n",
    "DEFAULT_EMBEDDING_MODEL_NAME = 'BAAI/bge-m3'\n",
    "conn = connections.connect(host=CLUSTER_DOMAIN, port=POART)\n",
    "if DATABASE_NAME not in db.list_database():\n",
    "    db.create_database(DATABASE_NAME)\n",
    "client = MilvusClient(\n",
    "    db_name=DATABASE_NAME,\n",
    "    uri=CLUSTER_ENDPOINT,\n",
    "    user=\"developers\",\n",
    "    password=\"developers\",\n",
    ")"
   ]
  },
  {
   "cell_type": "code",
   "execution_count": 4,
   "metadata": {},
   "outputs": [],
   "source": [
    "schema = MilvusClient.create_schema(auto_id=True,enable_dynamic_field=True,)\n",
    "schema.add_field(field_name=\"id\", datatype=DataType.INT64, is_primary=True)\n",
    "schema.add_field(field_name=\"dense_vector\", datatype=DataType.FLOAT_VECTOR, dim=1024)\n",
    "schema.add_field(field_name=\"hash\", datatype=DataType.VARCHAR, max_length=32)\n",
    "schema.add_field(field_name=\"bank\", datatype=DataType.VARCHAR, max_length=65535)\n",
    "# schema.add_field(field_name=\"content\", datatype=DataType.JSON)\n",
    "schema.add_field(field_name=\"approximate_tokens_size\", datatype=DataType.INT32)\n",
    "\n",
    "\n",
    "index_params = client.prepare_index_params()\n",
    "index_params.add_index(index_name=\"id_index\", field_name=\"id\", index_type=\"STL_SORT\")\n",
    "index_params.add_index(index_name=\"hash_index\", field_name=\"hash\", index_type=\"Trie\")\n",
    "index_params.add_index(index_name=\"bank_index\", field_name=\"bank\", index_type=\"Trie\")\n",
    "index_params.add_index(\n",
    "    field_name=\"dense_vector\", \n",
    "    index_type=\"FLAT\",\n",
    "    metric_type=\"IP\"\n",
    ")\n",
    "\n",
    "if client.has_collection(COLLECTION_NAME):\n",
    "    client.drop_collection(COLLECTION_NAME)\n",
    "client.create_collection(\n",
    "    collection_name=COLLECTION_NAME,\n",
    "    schema=schema,\n",
    "    index_params=index_params,\n",
    "    consistency_level=\"Strong\"\n",
    ")"
   ]
  },
  {
   "cell_type": "code",
   "execution_count": 5,
   "metadata": {},
   "outputs": [
    {
     "name": "stderr",
     "output_type": "stream",
     "text": [
      "c:\\Users\\User\\anaconda3\\envs\\p311\\Lib\\site-packages\\tqdm\\auto.py:21: TqdmWarning: IProgress not found. Please update jupyter and ipywidgets. See https://ipywidgets.readthedocs.io/en/stable/user_install.html\n",
      "  from .autonotebook import tqdm as notebook_tqdm\n",
      "Fetching 30 files: 100%|██████████| 30/30 [00:00<00:00, 14367.34it/s]\n",
      "c:\\Users\\User\\anaconda3\\envs\\p311\\Lib\\site-packages\\FlagEmbedding\\BGE_M3\\modeling.py:335: FutureWarning: You are using `torch.load` with `weights_only=False` (the current default value), which uses the default pickle module implicitly. It is possible to construct malicious pickle data which will execute arbitrary code during unpickling (See https://github.com/pytorch/pytorch/blob/main/SECURITY.md#untrusted-models for more details). In a future release, the default value for `weights_only` will be flipped to `True`. This limits the functions that could be executed during unpickling. Arbitrary objects will no longer be allowed to be loaded via this mode unless they are explicitly allowlisted by the user via `torch.serialization.add_safe_globals`. We recommend you start setting `weights_only=True` for any use case where you don't have full control of the loaded file. Please open an issue on GitHub for any issues related to this experimental feature.\n",
      "  colbert_state_dict = torch.load(os.path.join(model_dir, 'colbert_linear.pt'), map_location='cpu')\n",
      "c:\\Users\\User\\anaconda3\\envs\\p311\\Lib\\site-packages\\FlagEmbedding\\BGE_M3\\modeling.py:336: FutureWarning: You are using `torch.load` with `weights_only=False` (the current default value), which uses the default pickle module implicitly. It is possible to construct malicious pickle data which will execute arbitrary code during unpickling (See https://github.com/pytorch/pytorch/blob/main/SECURITY.md#untrusted-models for more details). In a future release, the default value for `weights_only` will be flipped to `True`. This limits the functions that could be executed during unpickling. Arbitrary objects will no longer be allowed to be loaded via this mode unless they are explicitly allowlisted by the user via `torch.serialization.add_safe_globals`. We recommend you start setting `weights_only=True` for any use case where you don't have full control of the loaded file. Please open an issue on GitHub for any issues related to this experimental feature.\n",
      "  sparse_state_dict = torch.load(os.path.join(model_dir, 'sparse_linear.pt'), map_location='cpu')\n"
     ]
    },
    {
     "name": "stdout",
     "output_type": "stream",
     "text": [
      "Model loaded.\n",
      "Inserted 0 rows\n",
      "Inserted 100 rows\n"
     ]
    }
   ],
   "source": [
    "df_path=os.path.join(\"dataset\",\"entities_transcripts.jsonl\")\n",
    "df=pd.read_json(df_path,lines=True)\n",
    "def insert_into_milvus():\n",
    "    for idx,row in df.iterrows():\n",
    "        data=row.to_dict()\n",
    "        content=row[\"chunk\"]\n",
    "        summary=row[\"summary\"]\n",
    "        full_summary=row[\"full_summary\"]\n",
    "        pre_vectorize_text=full_summary.replace(summary,content)\n",
    "        embeddings=get_embeddings([pre_vectorize_text])\n",
    "        dense_vector=embeddings['dense_vectors'][0]\n",
    "        dense_vector=dense_vector.tolist()\n",
    "        data[\"dense_vector\"]=dense_vector\n",
    "        data[\"content\"]=row[\"chunk\"]\n",
    "        # data.pop(\"chunk\")\n",
    "        # print(data)\n",
    "        client.insert(collection_name=COLLECTION_NAME, data=[data])\n",
    "\n",
    "        \n",
    "        pre_vectorize_text=content\n",
    "        embeddings=get_embeddings([pre_vectorize_text])\n",
    "        client.insert(collection_name=COLLECTION_NAME, data=[data])\n",
    "\n",
    "        # questions=row[\"questions\"]\n",
    "        # for question in questions:\n",
    "        #     question_data=data.copy()\n",
    "        #     question_data[\"content\"]=question\n",
    "        #     embeddings=get_embeddings([question])\n",
    "        #     dense_vector=embeddings['dense_vectors'][0]\n",
    "        #     dense_vector=dense_vector.tolist()\n",
    "        #     question_data[\"dense_vector\"]=dense_vector\n",
    "        #     client.insert(collection_name=COLLECTION_NAME, data=[question_data])\n",
    "        if idx%100==0:\n",
    "            print(f\"Inserted {idx} rows\")\n",
    "    pass\n",
    "insert_into_milvus()"
   ]
  },
  {
   "cell_type": "code",
   "execution_count": 6,
   "metadata": {},
   "outputs": [],
   "source": [
    "import hashlib\n",
    "df_path=os.path.join(\"dataset\",\"hardcode_cyphers_questions.jsonl\")\n",
    "df=pd.read_json(df_path,lines=True)\n",
    "def insert_hardcoded_questions():\n",
    "    for idx,row in df.iterrows():\n",
    "        data=row.to_dict()\n",
    "        pre_vectorize_text=row[\"question\"]\n",
    "        embeddings=get_embeddings([pre_vectorize_text])\n",
    "        dense_vector=embeddings['dense_vectors'][0]\n",
    "        dense_vector=dense_vector.tolist()\n",
    "        data[\"dense_vector\"]=dense_vector\n",
    "        data[\"content\"]=row[\"question\"]\n",
    "        data[\"cypher\"]=row[\"cypher\"]\n",
    "        data[\"hash\"]=hashlib.md5(str(row[\"cypher\"]).encode()).hexdigest()\n",
    "        data[\"bank\"]=\"\"\n",
    "        data[\"approximate_tokens_size\"]=-1\n",
    "        # data.pop(\"chunk\")\n",
    "        # print(data)\n",
    "        client.insert(collection_name=COLLECTION_NAME, data=[data])\n",
    "        if idx%100==0:\n",
    "            print(f\"Inserted {idx} rows\")\n",
    "    pass\n",
    "# insert_hardcoded_questions()"
   ]
  },
  {
   "cell_type": "code",
   "execution_count": 7,
   "metadata": {},
   "outputs": [],
   "source": [
    "embeddings=get_embeddings([\"How does HSBC perform so far?\"])\n",
    "dense_vectors=embeddings['dense_vectors'].tolist()\n",
    "dense_search_params = {\"metric_type\": \"IP\"}\n",
    "res = client.search(COLLECTION_NAME, data=dense_vectors, search_params=dense_search_params, output_fields=[\"id\",\"hash\",\"bank\",\"content\",\"chunk\"],limit=100)\n",
    "import json\n",
    "result = json.dumps(res)\n",
    "pd.DataFrame(res).to_json(\"search_result.json\",orient=\"records\",force_ascii=False)"
   ]
  },
  {
   "cell_type": "code",
   "execution_count": 8,
   "metadata": {},
   "outputs": [],
   "source": [
    "embeddings=get_embeddings([\"Who went to multiple banks' earnings calls event?  Give me a short and simple answer.\"])\n",
    "dense_vectors=embeddings['dense_vectors'].tolist()\n",
    "dense_search_params = {\"metric_type\": \"IP\"}\n",
    "res = client.search(COLLECTION_NAME, data=dense_vectors, search_params=dense_search_params, output_fields=[\"id\",\"hash\",\"bank\",\"content\",\"chunk\",\"cypher\"],limit=10)\n",
    "import json\n",
    "result = json.dumps(res)\n",
    "pd.DataFrame(res).to_json(\"search_result.json\",orient=\"records\",force_ascii=False)"
   ]
  }
 ],
 "metadata": {
  "kernelspec": {
   "display_name": "p311",
   "language": "python",
   "name": "python3"
  },
  "language_info": {
   "codemirror_mode": {
    "name": "ipython",
    "version": 3
   },
   "file_extension": ".py",
   "mimetype": "text/x-python",
   "name": "python",
   "nbconvert_exporter": "python",
   "pygments_lexer": "ipython3",
   "version": "3.12.4"
  }
 },
 "nbformat": 4,
 "nbformat_minor": 2
}
